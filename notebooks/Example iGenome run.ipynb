{
 "cells": [
  {
   "cell_type": "markdown",
   "metadata": {},
   "source": [
    "## Example iGenome run"
   ]
  },
  {
   "cell_type": "markdown",
   "metadata": {},
   "source": [
    "#### Once iGenome has been properly installed, you can call it from the command line."
   ]
  },
  {
   "cell_type": "code",
   "execution_count": 1,
   "metadata": {},
   "outputs": [
    {
     "name": "stdout",
     "output_type": "stream",
     "text": [
      "usage: iGenome [-h] [-v] [-p params] [-s steps]\r\n",
      "\r\n",
      "optional arguments:\r\n",
      "  -h, --help     show this help message and exit\r\n",
      "  -v, --version  show program's version number and exit\r\n",
      "  -p params      path to params file for Assembly\r\n",
      "  -s steps       Set of assembly steps to perform, e.g., -s 123 (Default=None)\r\n",
      "\r\n",
      "  * Example command-line usage: \r\n",
      "    iGenome -p params-data.txt            ## run iGenome with settings in params file.\r\n",
      "    iGenome -p params-data.txt -s 123     ## run only steps 1-3 of assembly.\r\n",
      "  * Documentation: https://github.com/lucasrocmoreira/PDSB-project.git\r\n",
      "    \r\n"
     ]
    }
   ],
   "source": [
    "%%bash\n",
    "\n",
    "iGenome"
   ]
  },
  {
   "cell_type": "markdown",
   "metadata": {},
   "source": [
    "#### For this example, we will utilized the toy dataset that is installed with iGenome."
   ]
  },
  {
   "cell_type": "code",
   "execution_count": 2,
   "metadata": {},
   "outputs": [
    {
     "name": "stdout",
     "output_type": "stream",
     "text": [
      "params.txt\n",
      "toy_1_dataset.fastq\n",
      "toy_2_dataset.fastq\n"
     ]
    }
   ],
   "source": [
    "%%bash\n",
    "\n",
    "ls ../data"
   ]
  },
  {
   "cell_type": "markdown",
   "metadata": {},
   "source": [
    "#### Let's first edit the param file."
   ]
  },
  {
   "cell_type": "code",
   "execution_count": 6,
   "metadata": {},
   "outputs": [
    {
     "name": "stdout",
     "output_type": "stream",
     "text": [
      "------- iGenome params file (v.0.1)-------------------------------------------\n",
      "Sample1\t\t\t\t\t\t\t\t\t\t\t   \t\t\t\t\t\t\t\t\t\t\t## [0] [sample_name]: Sample name.\n",
      "\t\t\t\t\t\t\t\t\t\t\t\t\t\t\t\t\t\t\t\t\t\t\t## [1] [project_dir]: Project dir (made in curdir if not present)\t\t\t\t\t   \n",
      "c:\\Users\\lexlu\\Desktop\\programming-for-bio\\PDSB-project\\data\\toy_1_dataset.fastq            ## [2] [raw_fastq1_path]: Location of raw demultiplexed fastq file 1\n",
      "c:\\Users\\lexlu\\Desktop\\programming-for-bio\\PDSB-project\\data\\toy_2_dataset.fastq\t\t\t## [3] [raw_fastq2_path]: Location of raw demultiplexed fastq file 2\t\t\t\t\t\t\t   \n",
      "\t\t\t\t\t\t\t\t\t\t\t\t\t\t\t\t\t\t\t\t\t\t\t## [4] [reference_sequence]: Location of reference sequence file"
     ]
    }
   ],
   "source": [
    "%%bash\n",
    "\n",
    "cat ../data/params.txt"
   ]
  },
  {
   "cell_type": "markdown",
   "metadata": {},
   "source": [
    "#### Ok, now we can run step one (Trimming adapters and filtering reads)."
   ]
  },
  {
   "cell_type": "code",
   "execution_count": 8,
   "metadata": {
    "scrolled": true
   },
   "outputs": [
    {
     "name": "stdout",
     "output_type": "stream",
     "text": [
      "Trimming adapters\r\n",
      "TrimmomaticPE: Started with arguments:\r",
      "\r\n",
      " c:\\Users\\lexlu\\Desktop\\programming-for-bio\\PDSB-project\\data\\toy_1_dataset.fastq c:\\Users\\lexlu\\Desktop\\programming-for-bio\\PDSB-project\\data\\toy_2_dataset.fastq Sample1-forward_paired.fq.gz Sample1-forward_unpaired.fq.gz Sample1-reverse_paired.fq.gz Sample1-reverse_unpaired.fq.gz ILLUMINACLIP:..\\project\\bin\\adapters\\TruSeq3-PE-2.fa:2:30:10:8:true\r",
      "\r\n",
      "Multiple cores found: Using 4 threads\r",
      "\r\n",
      "Using PrefixPair: 'TACACTCTTTCCCTACACGACGCTCTTCCGATCT' and 'GTGACTGGAGTTCAGACGTGTGCTCTTCCGATCT'\r",
      "\r\n",
      "Using Long Clipping Sequence: 'AGATCGGAAGAGCGTCGTGTAGGGAAAGAGTGTA'\r",
      "\r\n",
      "Using Long Clipping Sequence: 'AGATCGGAAGAGCACACGTCTGAACTCCAGTCAC'\r",
      "\r\n",
      "Using Long Clipping Sequence: 'GTGACTGGAGTTCAGACGTGTGCTCTTCCGATCT'\r",
      "\r\n",
      "Using Long Clipping Sequence: 'TACACTCTTTCCCTACACGACGCTCTTCCGATCT'\r",
      "\r\n",
      "ILLUMINACLIP: Using 1 prefix pairs, 4 forward/reverse sequences, 0 forward only sequences, 0 reverse only sequences\r",
      "\r\n",
      "Quality encoding detected as phred33\r",
      "\r\n",
      "Input Read Pairs: 100 Both Surviving: 100 (100.00%) Forward Only Surviving: 0 (0.00%) Reverse Only Surviving: 0 (0.00%) Dropped: 0 (0.00%)\r",
      "\r\n",
      "TrimmomaticPE: Completed successfully\r",
      "\r\n",
      "\r\n"
     ]
    }
   ],
   "source": [
    "%%bash\n",
    "\n",
    "iGenome -p ../data/params.txt -s 1"
   ]
  },
  {
   "cell_type": "markdown",
   "metadata": {},
   "source": [
    "#### Now, four `.fastq.gz` files have been produced. A paired and unpaired file for each read direction."
   ]
  },
  {
   "cell_type": "code",
   "execution_count": 9,
   "metadata": {},
   "outputs": [
    {
     "name": "stdout",
     "output_type": "stream",
     "text": [
      "Sample1-forward_paired.fq.gz\n",
      "Sample1-forward_unpaired.fq.gz\n",
      "Sample1-reverse_paired.fq.gz\n",
      "Sample1-reverse_unpaired.fq.gz\n"
     ]
    }
   ],
   "source": [
    "%%bash\n",
    "\n",
    "ls Sample*"
   ]
  }
 ],
 "metadata": {
  "kernelspec": {
   "display_name": "Python 3",
   "language": "python",
   "name": "python3"
  },
  "language_info": {
   "codemirror_mode": {
    "name": "ipython",
    "version": 3
   },
   "file_extension": ".py",
   "mimetype": "text/x-python",
   "name": "python",
   "nbconvert_exporter": "python",
   "pygments_lexer": "ipython3",
   "version": "3.6.3"
  }
 },
 "nbformat": 4,
 "nbformat_minor": 2
}
